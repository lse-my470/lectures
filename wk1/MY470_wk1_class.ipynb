# Oct 1
{   
 "cells": [
  {
   "cell_type": "markdown",
   "metadata": {
    "slideshow": {
     "slide_type": "slide"
    }
   },
   "source": [
    "### MY470 Computer Programming\n",
    "# Anaconda, Jupyter, and GitHub\n",
    "### Week 1 Lab"
   ]
  },
  {
   "cell_type": "markdown",
   "metadata": {
    "slideshow": {
     "slide_type": "slide"
    }
   },
   "source": [
    "## IDEs\n",
    "\n",
    "* Integrated development environment\n",
    "* A software application that facilitates computer programming and software development\n",
    "  * Text editor with syntax highlighting, auto completion and smart indentation\n",
    "  * Shell with syntax highlighting\n",
    "  * Popular libraries\n",
    "  * (Debugger)\n",
    "* For example:\n",
    "  * Spyder\n",
    "  * PyCharm\n",
    "  * Atom + Hydrogen/Terminal\n",
    "  * **Jupyter + Anaconda**"
   ]
  },
  {
   "cell_type": "markdown",
   "metadata": {
    "slideshow": {
     "slide_type": "slide"
    }
   },
   "source": [
    "## Anaconda\n",
    "\n",
    "![Anaconda](figs/anaconda.png \"Anaconda\")\n",
    "\n",
    "* Freemium open-source cross-platform distribution of the Pyhton and R programming languages\n",
    "  * `conda` – package management system\n",
    "  * `pandas`, `numpy`, `statsmodels`, `networkx`, `scikit-learn`, `matplotlib` – packages for data science \n",
    "  * Anaconda Navigator – graphical user interface\n",
    "  * Jupyter Notebook – web app for creating and sharing code"
   ]
  },
  {
   "cell_type": "markdown",
   "metadata": {
    "slideshow": {
     "slide_type": "slide"
    }
   },
   "source": [
    "## Installing Anaconda\n",
    "\n",
    "* Go to https://www.anaconda.com/download/\n",
    "* Select your OS\n",
    "* **Download Python 3.7 version**\n",
    "* Follow instructions"
   ]
  },
  {
   "cell_type": "markdown",
   "metadata": {
    "slideshow": {
     "slide_type": "slide"
    }
   },
   "source": [
    "## Jupyter\n",
    "\n",
    "![Jupyter](figs/jupyter.png \"Jupyter\")\n",
    "\n",
    "* Open-source web application for creating and sharing documents with:\n",
    "  * Live code\n",
    "  * Equations\n",
    "  * Visualizations\n",
    "  * Explanatory text\n",
    "* Supports more than 40 programming languages, including Python and R\n",
    "* Notebook files have *.ipynb* extension and can be easily shared, e.g. on GitHub"
   ]
  },
  {
   "cell_type": "markdown",
   "metadata": {
    "slideshow": {
     "slide_type": "slide"
    }
   },
   "source": [
    "## Launching Jupyter\n",
    "\n",
    "* Launch Anaconda Navigator and click on Jupyter Notebook icon\n",
    "\n",
    "or \n",
    "\n",
    "* Open Terminal/cmd and type: \n",
    "\n",
    "```\n",
    "> jupyter notebook\n",
    "```"
   ]
  },
  {
   "cell_type": "markdown",
   "metadata": {
    "slideshow": {
     "slide_type": "slide"
    }
   },
   "source": [
    "## Using Jupyter\n",
    "\n",
    "* New &rarr; Notebook: Python 3\n",
    "* Insert &rarr; Insert Cell Below\n",
    "* Cell &rarr; Cell Type &rarr;\n",
    "  * Markdown\n",
    "    * Lightweight markup language\n",
    "    * See cheatsheet: https://github.com/adam-p/markdown-here/wiki/Markdown-Cheatsheet\n",
    "    * CTRL+ENTER to run\n",
    "    * Double-click to edit\n",
    "  * Code\n",
    "    * CTRL+ENTER to run\n",
    "* Cell &rarr; Run All\n",
    "  * Code is ran top-down so you can use code from cells above in current cell"
   ]
  },
  {
   "cell_type": "markdown",
   "metadata": {
    "slideshow": {
     "slide_type": "notes"
    }
   },
   "source": [
    "## Using Jupyter for Slides\n",
    "\n",
    "* Install RISE\n",
    "  \n",
    "```\n",
    "> conda install -c conda-forge rise\n",
    "```    \n",
    "  \n",
    "* Restart Jupyter\n",
    "* View &rarr; Cell Toolbar &rarr; Slideshow to determine slideshow flow\n",
    "* Click on Enter/Exit Live Reveal Slideshow\n",
    "    "
   ]
  },
  {
   "cell_type": "markdown",
   "metadata": {
    "slideshow": {
     "slide_type": "slide"
    }
   },
   "source": [
    "## Shutting Down Jupyter\n",
    "\n",
    "* Do not forget to Command+S / CTRL+S !\n",
    "* Jupyter is a server and closing the browser window will not shut it down\n",
    "* To close a notebook:\n",
    "    * File &rarr; Close and Halt\n",
    "    * On Notebook Dashboard &rarr; Slect notebook &rarr; Shutdown\n",
    "* To shut down server:\n",
    "    * On Notebook Dashboard &rarr; Quit\n",
    "    * Terminal &rarr; CTRL+C &rarr; `y`"
   ]
  },
  {
   "cell_type": "markdown",
   "metadata": {
    "slideshow": {
     "slide_type": "slide"
    }
   },
   "source": [
    "## Alternative Python Workflow\n",
    "\n",
    "* Use another IDE\n",
    "\n",
    "or \n",
    "\n",
    "* Use text editor (e.g. Atom) to create .py files\n",
    "* Run files in Terminal/cmd\n",
    "\n",
    "```\n",
    "> cd Path/to/file\n",
    "> python filename.py\n",
    "```"
   ]
  },
  {
   "cell_type": "markdown",
   "metadata": {
    "slideshow": {
     "slide_type": "slide"
    }
   },
   "source": [
    "## Working with GitHub\n",
    "\n",
    "If you have not done this already:\n",
    "\n",
    "* Create personal account on https://github.com/\n",
    "* Go to https://education.github.com/ and get the Student Developer Pack for some cool freebies\n",
    "\n",
    "Three ways to interact with GitHub:\n",
    "\n",
    "1. Browser\n",
    "2. Command line\n",
    "3. (GitHub Desktop)"
   ]
  },
  {
   "cell_type": "markdown",
   "metadata": {
    "slideshow": {
     "slide_type": "slide"
    }
   },
   "source": [
    "## Viewing Course Materials on GitHub (Browser)\n",
    "\n",
    "* Syllabus and lectures at http://github.com/lse-my470/lectures\n",
    "\n",
    "* Answers to assignments at https://github.com/lse-my470/answers-to-assignments\n"
   ]
  },
  {
   "cell_type": "markdown",
   "metadata": {
    "slideshow": {
     "slide_type": "slide"
    }
   },
   "source": [
    "## Submitting Assignments on GitHub (Browser)\n",
    "\n",
    "1. Wait for e-mail with link to assignment (sent on Monday evening)\n",
    "* Accept invitation to assignment. This will automatically create a new repository with your username.\n",
    "* **Clone/download** the repository (GitHub web interface)\n",
    "* Make changes in downloaded file (Jupyter)\n",
    "* Upload and **commit** changed file **directly to the master branch**. Do this before the deadline (GitHub web interface)\n",
    "* We will automatically download all assignment repositories when the deadline has passed. We will then comment and mark your assignment directly in the main file you submitted \n",
    "* Wait for a new commit from us to view our feedback (GitHub web interface) "
   ]
  },
  {
   "cell_type": "markdown",
   "metadata": {
    "slideshow": {
     "slide_type": "slide"
    }
   },
   "source": [
    "## Cloning Course Materials from GitHub (Command Line)\n",
    "\n",
    "### \\*Install and set up `git`\n",
    "\n",
    "Follow instructions here: https://help.github.com/articles/set-up-git/\n",
    "\n",
    "### Cloning\n",
    "\n",
    "  `> cd Path/to/directory`\n",
    "\n",
    "  `> git clone https://github.com/lse-my470/lectures.git`\n",
    "\n",
    "### Updating\n",
    "\n",
    "  `> cd Path/to/lectures`\n",
    "\n",
    "  `> git pull`\n"
   ]
  },
  {
   "cell_type": "markdown",
   "metadata": {
    "slideshow": {
     "slide_type": "fragment"
    }
   },
   "source": [
    "---\n",
    "\n",
    "* Similarly, clone and update `https://github.com/lse-my470/answers-to-assignments` \n",
    "\n",
    "* Use Jupyter to annotate your local copies\n",
    "\n"
   ]
  },
  {
   "cell_type": "markdown",
   "metadata": {
    "slideshow": {
     "slide_type": "slide"
    }
   },
   "source": [
    "## Submitting Assignments on GitHub (Command Line)\n",
    "\n",
    "1. Accept invitation to assignment. This will automatically create a new repository with your username\n",
    "* **Clone** the repository (Terminal)\n",
    "\n",
    "  `> cd Path/to/directory`\n",
    "\n",
    "  `> git clone link.git`\n",
    "  \n",
    "  (You can obtain the link when you click the \"Clone or download\" button on the GitHub page for the repository)\n",
    "\n",
    "* Make changes in downloaded file (Jupyter)\n",
    "\n",
    "* **Commit** changed file and **push to the master branch**. Do this before the deadline (Terminal)\n",
    "\n",
    "  `> cd Path/to/directory`\n",
    "  \n",
    "  `> git add *` \n",
    "  \n",
    "  `> git commit -m 'Submitting assignment'`\n",
    "  \n",
    "  `> git push`\n",
    "  \n",
    "* We will automatically download all assignment repositories when the deadline has passed. We will then comment and mark your assignment directly in the main file you submitted\n",
    "\n",
    "* **Pull** the new version we commit to view our feedback (Terminal)\n",
    "\n",
    "  `> cd Path/to/directory`\n",
    "  \n",
    "  `> git pull`\n"
   ]
  },
  {
   "cell_type": "markdown",
   "metadata": {
    "slideshow": {
     "slide_type": "slide"
    }
   },
   "source": [
    "## Submitting Assignments on GitHub (Command Line)\n",
    "\n",
    "![Git Commands](figs/git.jpg \"Git Commands\")\n"
   ]
  },
  {
   "cell_type": "markdown",
   "metadata": {
    "slideshow": {
     "slide_type": "slide"
    }
   },
   "source": [
    "## Submitting Assignments on GitHub: General Notes\n",
    "\n",
    "* Do not forget to push (especially on GitHub Desktop!)\n",
    "* Always check if the changes are online. If you cannot see them after refreshing, no one else can.\n",
    "* GitHub does all the version control for you. Do not duplicate and rename files!\n"
   ]
  },
  {
   "cell_type": "markdown",
   "metadata": {
    "slideshow": {
     "slide_type": "slide"
    }
   },
   "source": [
    "## Week 1 Assignment (FORMATIVE)\n",
    "\n",
    "* Write a simple program in a Jupyter notebook and submit it on GitHub\n",
    "* E-mail with link to assignment will be sent by end of Monday"
   ]
  }
 ],
 "metadata": {
  "celltoolbar": "Slideshow",
  "kernelspec": {
   "display_name": "Python 3",
   "language": "python",
   "name": "python3"
  },
  "language_info": {
   "codemirror_mode": {
    "name": "ipython",
    "version": 3
   },
   "file_extension": ".py",
   "mimetype": "text/x-python",
   "name": "python",
   "nbconvert_exporter": "python",
   "pygments_lexer": "ipython3",
   "version": "3.7.3"
  }
 },
 "nbformat": 4,
 "nbformat_minor": 2
}
