{
 "cells": [
  {
   "cell_type": "markdown",
   "metadata": {
    "slideshow": {
     "slide_type": "slide"
    }
   },
   "source": [
    "### MY470 Computer Programming\n",
    "# Welcome to Computer Programming\n",
    "### Week 1 Admin"
   ]
  },
  {
   "cell_type": "markdown",
   "metadata": {
    "slideshow": {
     "slide_type": "slide"
    }
   },
   "source": [
    "## Overview\n",
    "\n",
    "* Course content\n",
    "* Prerequisites and materials\n",
    "* Course meetings\n",
    "* Assesment and collaboration\n",
    "* Weekly schedule"
   ]
  },
  {
   "cell_type": "markdown",
   "metadata": {
    "slideshow": {
     "slide_type": "slide"
    }
   },
   "source": [
    "## Why Do Social Scientists Need Computer Programming?\n",
    "\n",
    "![Large data online](figs/new_data.png \"Large data online\")"
   ]
  },
  {
   "cell_type": "markdown",
   "metadata": {
    "slideshow": {
     "slide_type": "slide"
    }
   },
   "source": [
    "## Why Do Social Scientists Need Computer Programming?\n",
    "\n",
    "* Collect data\n",
    "  * Crawling websites and using APIs\n",
    "  * Online surveys and experiments\n",
    "  * Computational models and simulations\n",
    "* Manage, analyze, and visualize data\n",
    "  * Large data\n",
    "  * Non-rectangular data (e.g. networks, text)"
   ]
  },
  {
   "cell_type": "markdown",
   "metadata": {
    "slideshow": {
     "slide_type": "fragment"
    }
   },
   "source": [
    "* Be autonomous and work independently\n",
    "* Learn from and collaborate with engineers and scientists"
   ]
  },
  {
   "cell_type": "markdown",
   "metadata": {
    "slideshow": {
     "slide_type": "fragment"
    }
   },
   "source": [
    "* Generate and share reproducible workflows"
   ]
  },
  {
   "cell_type": "markdown",
   "metadata": {
    "slideshow": {
     "slide_type": "slide"
    }
   },
   "source": [
    "## Coding vs. Programming\n",
    "\n",
    "![Coding vs. programming](figs/programming.png \"Coding vs. programming\")"
   ]
  },
  {
   "cell_type": "markdown",
   "metadata": {
    "slideshow": {
     "slide_type": "slide"
    }
   },
   "source": [
    "## Course Content\n",
    "\n",
    "* Introduce the fundamentals of computer programming\n",
    "* Cover the foundations of computer languages, object-oriented programming, and algorithms\n",
    "* Learn how to design, write, and debug computer programs and how to evaluate algorithms\n",
    "* Practice on applications from computational social science and social data science  "
   ]
  },
  {
   "cell_type": "markdown",
   "metadata": {
    "slideshow": {
     "slide_type": "slide"
    }
   },
   "source": [
    "## Instructors\n",
    "\n",
    "* Dr. Milena Tsvetkova, `m.tsvetkova@lse.ac.uk`\n",
    "* Dr. Patrick Gildersleve, `p.gildersleve@lse.ac.uk`\n",
    "* Alexander Soldatkin (GTA)\n",
    "\n",
    "**Course administrator**\n",
    "* Lucia Pedrioli, `methodology.admin@lse.ac.uk`"
   ]
  },
  {
   "cell_type": "markdown",
   "metadata": {
    "slideshow": {
     "slide_type": "slide"
    }
   },
   "source": [
    "## Prerequisites and Software\n",
    "\n",
    "* Introductory course — no prerequisites"
   ]
  },
  {
   "cell_type": "markdown",
   "metadata": {
    "slideshow": {
     "slide_type": "-"
    }
   },
   "source": [
    "* Laptop for in-person classes"
   ]
  },
  {
   "cell_type": "markdown",
   "metadata": {
    "slideshow": {
     "slide_type": "-"
    }
   },
   "source": [
    "* Software\n",
    "  * **Python** (Anaconda distribution) to learn basic concepts in computer science\n",
    "  * **R** to experience another common programming language\n",
    "  * **Jupyter** web app and **RStudio** to write code\n",
    "  * **GitHub** to share course documents and assignments"
   ]
  },
  {
   "cell_type": "markdown",
   "metadata": {
    "slideshow": {
     "slide_type": "slide"
    }
   },
   "source": [
    "## Course Materials\n",
    "\n",
    "### Lecture/seminar materials and sample answers to assignments\n",
    "\n",
    "* http://github.com/lse-my470/lectures\n",
    "* https://github.com/lse-my470/answers-to-assignments\n",
    "\n",
    "### Books\n",
    "\n",
    "* Guttag, John V. *Introduction to Computation and Programming Using Python: With Application to Understanding Data.* Mit Press, 2016.\n",
    "* Miller, Bradley N. and David L. Ranum. *Problem Solving with Algorithms and Data Structures Using Python*. Available at http://interactivepython.org/runestone/static/pythonds/index.html.\n",
    "* Grolemund, Garrett and Hadley Wickham. *R for Data Science*. O'Reilly, 2016. Available at http://r4ds.had.co.nz.\n",
    "\n",
    "### Additional resources\n",
    "\n",
    "* [MY470 additional resources](https://github.com/lse-my470/lectures/blob/master/resources.md)"
   ]
  },
  {
   "cell_type": "markdown",
   "metadata": {
    "slideshow": {
     "slide_type": "slide"
    }
   },
   "source": [
    "## Course Procedure\n",
    "\n",
    "1. Read required readings\n",
    "2. Attend lecture\n",
    "3. Attend class\n",
    "4. Complete and submit problem set on GitHub\n",
    "* (Schedule office hours on StudentHub to chat about programming and research, ask questions about the course content, or get clarification about feedback)\n",
    "* (Post and answer clarifying questions about assignments on Moodle)\n",
    "* (E-mail Milena if you have an urgent problem, e.g. cannot access GitHub)\n",
    "* (E-mail methodology.admin@lse.ac.uk if you require a deadline extension)\n",
    "* (Use additional resources to practice more)\n",
    "\n"
   ]
  },
  {
   "cell_type": "markdown",
   "metadata": {
    "slideshow": {
     "slide_type": "slide"
    }
   },
   "source": [
    "## Course Meetings\n",
    "\n",
    "* Ten 2-hour lectures\n",
    "  * Mondays 13:00–15:00 in NAB.2.04\n",
    "* Ten 1.5-hour seminars\n",
    "  * Tuesdays 10:00–11:30 in NAB.2.13\n",
    "  * Tuesdays 11:30–13:00 in NAB.2.13\n",
    "  * Tuesdays 15:00–16:30 in 32L.LG.18\n",
    "  * Tuesdays 16:30–18:00 in 32L.LG.18\n",
    "* No lecture/seminar in Week 6\n",
    "* Office hours\n",
    "  * Milena: Fridays 14:00–16:00, CON.2.11 or Zoom\n",
    "  * Patrick: Tuesdays 12:45–14:45, CON.1.04 or Zoom"
   ]
  },
  {
   "cell_type": "markdown",
   "metadata": {
    "slideshow": {
     "slide_type": "slide"
    }
   },
   "source": [
    "## Assessment\n",
    "\n",
    "* In-class assessment (50%)\n",
    "  * 8 problem sets (due at 12:00 on Mondays of weeks 3-6 and 8-11)\n",
    "  * We will try to give you grades and comments by Friday"
   ]
  },
  {
   "cell_type": "markdown",
   "metadata": {
    "slideshow": {
     "slide_type": "-"
    }
   },
   "source": [
    "* Take-home exam (50%) \n",
    "  * Substantive Python project requiring you to demonstrate concepts and skills learned from the course\n",
    "  * For students taking MY570: need to come up with own project, talk to Milena\n",
    "  * Due at 12:00 on Monday, January 16, 2023"
   ]
  },
  {
   "cell_type": "markdown",
   "metadata": {
    "slideshow": {
     "slide_type": "slide"
    }
   },
   "source": [
    "## Assessment Criteria\n",
    "\n",
    "  * The code runs and does what it is expected to\n",
    "  * The code is written using the concepts, paradigms, and best practices covered in the course\n",
    "    * 📖 Legibility\n",
    "    * ⚙️ Modularity\n",
    "    * ⚡️ Optimization"
   ]
  },
  {
   "cell_type": "markdown",
   "metadata": {
    "slideshow": {
     "slide_type": "slide"
    }
   },
   "source": [
    "## A Classic Software Development Joke\n",
    "\n",
    "![Software development joke](figs/tree_swing_development_requirements.jpg \"Software development joke\")\n",
    "\n",
    "Source: Reddit"
   ]
  },
  {
   "cell_type": "markdown",
   "metadata": {
    "slideshow": {
     "slide_type": "slide"
    }
   },
   "source": [
    "## Assignment to Design a Swing: Submissions\n",
    "\n",
    "![Programming styles](figs/programming_styles.png \"Programming styles\")\n"
   ]
  },
  {
   "cell_type": "markdown",
   "metadata": {
    "slideshow": {
     "slide_type": "slide"
    }
   },
   "source": [
    "## Marks at LSE\n",
    "\n",
    "![LSE grades](figs/grades.png \"LSE Grades\")\n",
    "\n",
    "https://info.lse.ac.uk/Staff/Divisions/Academic-Registrars-Division/Teaching-Quality-Assurance-and-Review-Office/Assets/Documents/Calendar/SchemeTaughtMasters.pdf"
   ]
  },
  {
   "cell_type": "markdown",
   "metadata": {
    "slideshow": {
     "slide_type": "slide"
    }
   },
   "source": [
    "## Assignment to Design a Swing: Marks\n",
    "\n",
    "![Marks for programming styles](figs/programming_styles_marked.png \"Marks for programming styles\")"
   ]
  },
  {
   "cell_type": "markdown",
   "metadata": {
    "slideshow": {
     "slide_type": "slide"
    }
   },
   "source": [
    "## Collaboration and Plagiarism Policy\n",
    "\n",
    "* Assignments are individual unless we instruct you otherwise\n",
    "* For individual assignments:\n",
    "  * You are not allowed to discuss solutions with peers, friends, family, or roommates\n",
    "  * You are not allowed to show your code or view others' code (including solutions shared by previous students)\n",
    "  * You are not allowed to ask questions about the assignments on Q&A sites such as Stack Overflow\n",
    "* You can search for general advice online (e.g. on Stack Overflow) but always give credit in comments if you borrow code  \n",
    "* You can use forum \"Clarifying Questions about Assignments\" on **Moodle** to ask questions (no code allowed, however)"
   ]
  },
  {
   "cell_type": "markdown",
   "metadata": {
    "slideshow": {
     "slide_type": "slide"
    }
   },
   "source": [
    "## Anonymity Regarding Marking\n",
    "\n",
    "* You will use your GitHub username to submit assignments\n",
    "* GitHub account and activity are checked by employers so good to have an active account\n",
    "* We use detailed marking criteria to evaluate your work and aim to be objective\n",
    "* However, if you are worried about anonymity, choose/change your username accordingly\n",
    "* See [here](https://help.github.com/en/articles/changing-your-github-username) for issues associated with changing GitHub username"
   ]
  },
  {
   "cell_type": "markdown",
   "metadata": {
    "slideshow": {
     "slide_type": "slide"
    }
   },
   "source": [
    "## Course Outline\n",
    "\n",
    "| Week   | Language  | Topic                  |   \n",
    "| :----: |:---------:| :----------------------| \n",
    "| 1      | –         | What is Computation?   |            \n",
    "| 2      | Python    | Data Types             | \n",
    "| 3      | Python    | Control Flow           | \n",
    "| 4      | Python    | Functions              | \n",
    "| 5      | Python    | Classes                |\n",
    "| 6      | –         | –                      | \n",
    "| 7      | Python    | Testing and Debugging  |\n",
    "| 8      | R         | Other Programming Languages    | \n",
    "| 9     | Python, R | Algorithms and Order of Growth | \n",
    "| 10    | Python, R | Searching and Sorting Algorithms | \n",
    "| 11    | Python, R | Tree and Graph Algorithms | "
   ]
  }
 ],
 "metadata": {
  "celltoolbar": "Slideshow",
  "kernelspec": {
   "display_name": "Python 3 (ipykernel)",
   "language": "python",
   "name": "python3"
  },
  "language_info": {
   "codemirror_mode": {
    "name": "ipython",
    "version": 3
   },
   "file_extension": ".py",
   "mimetype": "text/x-python",
   "name": "python",
   "nbconvert_exporter": "python",
   "pygments_lexer": "ipython3",
   "version": "3.9.12"
  }
 },
 "nbformat": 4,
 "nbformat_minor": 2
}
