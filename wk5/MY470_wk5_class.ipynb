{
 "cells": [
  {
   "cell_type": "markdown",
   "metadata": {
    "slideshow": {
     "slide_type": "slide"
    }
   },
   "source": [
    "### MY470 Computer Programming\n",
    "# Programming in Teams\n",
    "### Week 5 Lab"
   ]
  },
  {
   "cell_type": "markdown",
   "metadata": {
    "slideshow": {
     "slide_type": "slide"
    }
   },
   "source": [
    "## Classes"
   ]
  },
  {
   "cell_type": "code",
   "execution_count": 2,
   "metadata": {
    "slideshow": {
     "slide_type": "-"
    }
   },
   "outputs": [],
   "source": [
    "class MyClass(object):\n",
    "    \"\"\"DocString to define class.\"\"\" \n",
    "    # DocString, not comments. DocStrings are for users, and will travel with the class.\n",
    "    # Information about the implemention (not abstraction) giving concrete meaning \n",
    "    # to the abstract methods.   \n",
    "    \n",
    "    # Special Method: Always FIRST\n",
    "    def __init__(self, vals):\n",
    "        \"\"\"Create a new instance from class.\"\"\"\n",
    "        \n",
    "        # \"__\" is two underscores. \n",
    "        # A constructor method is a special function that creates an instance of the class.\n",
    "        # Any initalising you would like to do with your class object.\n",
    "        # Data attributes are defined here with the \"self.\" prefix\n",
    "        self.vals = vals\n",
    "    \n",
    "    def class_methods(self, arg):\n",
    "        \"\"\"DocString to describe method.\"\"\"\n",
    "        \n",
    "        # Some methods that do something. Get() and set() methods are common.\n",
    "        # Self is used to represent the instance of the class. \n",
    "        # When working out the structure we can originally just leave \"pass\".\n",
    "        pass\n",
    "    \n",
    "    # Special Method: Always LAST\n",
    "    def __str__(self): \n",
    "        \"\"\"Return a string representation of object.\"\"\"\n",
    "        \n",
    "        # Define here how you want the Class Instance to be printed. \n",
    "        # Otherwise, you will get the location (where the Class Instance is stored)\n",
    "        return sorted(self.vals)\n"
   ]
  },
  {
   "cell_type": "markdown",
   "metadata": {
    "slideshow": {
     "slide_type": "slide"
    }
   },
   "source": [
    "## Iterables\n",
    "\n",
    "When you create a list, you can read its items one by one. Reading its items one by one is called iteration."
   ]
  },
  {
   "cell_type": "code",
   "execution_count": 3,
   "metadata": {
    "slideshow": {
     "slide_type": "-"
    }
   },
   "outputs": [
    {
     "name": "stdout",
     "output_type": "stream",
     "text": [
      "0\n",
      "1\n",
      "4\n"
     ]
    }
   ],
   "source": [
    "mylist = [x*x for x in range(3)]\n",
    "for i in mylist:\n",
    "    print(i)"
   ]
  },
  {
   "cell_type": "markdown",
   "metadata": {
    "slideshow": {
     "slide_type": "-"
    }
   },
   "source": [
    "`mylist` is an iterable. When you use a list comprehension, you create a list, and so an iterable. Everything you can use ```for... in...``` on is an iterable: lists, strings, collections, files...\n",
    "\n",
    "\n",
    "These iterables are handy because you can read them as much as you wish. However, you store all the values in memory and this is not always what you want when you have a lot of values.\n"
   ]
  },
  {
   "cell_type": "markdown",
   "metadata": {
    "slideshow": {
     "slide_type": "slide"
    }
   },
   "source": [
    "## Generators\n",
    "\n",
    "[Source](https://stackoverflow.com/questions/231767/what-does-the-yield-keyword-do)\n",
    "\n",
    "Generators are iterators, a kind of iterable **you can only iterate over once**. Generators do not store all the values in memory, they generate the values on the fly.\n"
   ]
  },
  {
   "cell_type": "code",
   "execution_count": 1,
   "metadata": {
    "slideshow": {
     "slide_type": "-"
    }
   },
   "outputs": [
    {
     "name": "stdout",
     "output_type": "stream",
     "text": [
      "0\n",
      "1\n",
      "4\n"
     ]
    }
   ],
   "source": [
    "mygenerator = (x*x for x in range(3))\n",
    "\n",
    "for i in mygenerator:\n",
    "    print(i)"
   ]
  },
  {
   "cell_type": "markdown",
   "metadata": {
    "slideshow": {
     "slide_type": "-"
    }
   },
   "source": [
    "The syntax is the same except you used ```()``` instead of ```[]```. BUT, you cannot perform ```for i in mygenerator``` a second time since generators can only be used once: they calculate 0, then forget about it and calculate 1, and end calculating 4, one by one."
   ]
  },
  {
   "cell_type": "code",
   "execution_count": 2,
   "metadata": {
    "slideshow": {
     "slide_type": "-"
    }
   },
   "outputs": [],
   "source": [
    "for i in mygenerator:\n",
    "    print(i)"
   ]
  },
  {
   "cell_type": "markdown",
   "metadata": {
    "slideshow": {
     "slide_type": "slide"
    }
   },
   "source": [
    "## Yield\n",
    "\n",
    "```yield``` is a keyword that is used like ```return```, except the function will return a generator.\n"
   ]
  },
  {
   "cell_type": "code",
   "execution_count": 12,
   "metadata": {
    "slideshow": {
     "slide_type": "-"
    }
   },
   "outputs": [
    {
     "name": "stdout",
     "output_type": "stream",
     "text": [
      "<generator object createGenerator at 0x7fd1e0a59ed0>\n",
      "0\n",
      "1\n",
      "4\n"
     ]
    }
   ],
   "source": [
    "def createGenerator():\n",
    "    mylist = range(3)\n",
    "    for i in mylist:\n",
    "        yield i*i\n",
    "\n",
    "mygenerator = createGenerator() # create a generator\n",
    "print(mygenerator) # mygenerator is an object!\n",
    "\n",
    "for i in mygenerator:\n",
    "    print(i)"
   ]
  },
  {
   "cell_type": "markdown",
   "metadata": {
    "slideshow": {
     "slide_type": "slide"
    }
   },
   "source": [
    "When you call the function, the code you have written in the function body does not run. The function only returns the generator object.\n",
    "\n",
    "**Then, your code will continue from where it left off each time ```for``` uses the generator.**"
   ]
  },
  {
   "cell_type": "code",
   "execution_count": 23,
   "metadata": {
    "slideshow": {
     "slide_type": "-"
    }
   },
   "outputs": [
    {
     "name": "stdout",
     "output_type": "stream",
     "text": [
      "This is printed first\n"
     ]
    },
    {
     "data": {
      "text/plain": [
       "1"
      ]
     },
     "execution_count": 23,
     "metadata": {},
     "output_type": "execute_result"
    }
   ],
   "source": [
    "def my_gen():\n",
    "    n = 1\n",
    "    print('This is printed first')\n",
    "    # Generator function contains yield statements\n",
    "    yield n\n",
    "\n",
    "    n += 1\n",
    "    print('This is printed second')\n",
    "    yield n\n",
    "\n",
    "    n += 1\n",
    "    print('This is printed at last')\n",
    "    yield n\n",
    "    \n",
    "# It returns an object but does not start execution immediately.\n",
    "a = my_gen()\n",
    "\n",
    "# We can iterate through the items using next().\n",
    "next(a)"
   ]
  },
  {
   "cell_type": "code",
   "execution_count": 24,
   "metadata": {
    "slideshow": {
     "slide_type": "fragment"
    }
   },
   "outputs": [
    {
     "name": "stdout",
     "output_type": "stream",
     "text": [
      "This is printed second\n",
      "2\n",
      "This is printed at last\n",
      "3\n"
     ]
    }
   ],
   "source": [
    "# Once the function yields, the function is paused and the control is transferred to the caller.\n",
    "\n",
    "# Local variables and their states are remembered between successive calls.\n",
    "print(next(a))\n",
    "print(next(a))"
   ]
  },
  {
   "cell_type": "code",
   "execution_count": 25,
   "metadata": {
    "slideshow": {
     "slide_type": "fragment"
    }
   },
   "outputs": [
    {
     "ename": "StopIteration",
     "evalue": "",
     "output_type": "error",
     "traceback": [
      "\u001b[0;31m---------------------------------------------------------------------------\u001b[0m",
      "\u001b[0;31mStopIteration\u001b[0m                             Traceback (most recent call last)",
      "\u001b[0;32m/var/folders/6z/6rb5shzx795cjdd60ph6_5300000gn/T/ipykernel_54050/3028607018.py\u001b[0m in \u001b[0;36m<module>\u001b[0;34m\u001b[0m\n\u001b[1;32m      1\u001b[0m \u001b[0;31m# Finally, when the function terminates, StopIteration is raised automatically on further calls.\u001b[0m\u001b[0;34m\u001b[0m\u001b[0;34m\u001b[0m\u001b[0;34m\u001b[0m\u001b[0m\n\u001b[1;32m      2\u001b[0m \u001b[0;31m# Generators can only be called once.\u001b[0m\u001b[0;34m\u001b[0m\u001b[0;34m\u001b[0m\u001b[0;34m\u001b[0m\u001b[0m\n\u001b[0;32m----> 3\u001b[0;31m \u001b[0mnext\u001b[0m\u001b[0;34m(\u001b[0m\u001b[0ma\u001b[0m\u001b[0;34m)\u001b[0m\u001b[0;34m\u001b[0m\u001b[0;34m\u001b[0m\u001b[0m\n\u001b[0m",
      "\u001b[0;31mStopIteration\u001b[0m: "
     ]
    }
   ],
   "source": [
    "# Finally, when the function terminates, StopIteration is raised automatically on further calls.\n",
    "# Generators can only be called once.\n",
    "next(a)"
   ]
  },
  {
   "cell_type": "markdown",
   "metadata": {
    "slideshow": {
     "slide_type": "notes"
    }
   },
   "source": [
    "\n",
    "So ...\n",
    "- The first time ```for``` calls the generator object created from your function, it will run the code in your function from the beginning until it hits ```yield```, then it'll return the first value of the loop. \n",
    "- Then, each subsequent call will run another iteration of the loop you have written in the function and return the next value. This will continue until the generator is considered empty, which happens when the function runs without hitting ```yield```. \n",
    "- That can be because the loop has come to an end, or because you no longer satisfy an ```if / else``` statement."
   ]
  },
  {
   "cell_type": "markdown",
   "metadata": {
    "slideshow": {
     "slide_type": "slide"
    }
   },
   "source": [
    "## Suggested Workflow for Prorgamming in Teams\n",
    "\n",
    "1. Use `pass` to outline structure of program\n",
    "2. Write class/method/function specifications\n",
    "3. Split the work\n",
    "4. Fill in the details\n",
    "5. Review each other's code to identify and fix potential problems\n",
    "6. Merge\n",
    "7. Identify bugs and problems\n",
    "8. Repeat 3-7 as necessary"
   ]
  },
  {
   "cell_type": "markdown",
   "metadata": {
    "slideshow": {
     "slide_type": "slide"
    }
   },
   "source": [
    "## GitHub as a Collaboration Tool\n",
    "\n",
    "1. Clone repository locally\n",
    "2. Make changes in cloned repository\n",
    "3. Upload new file, **creating a new branch and starting a pull request**\n"
   ]
  },
  {
   "cell_type": "markdown",
   "metadata": {
    "slideshow": {
     "slide_type": "slide"
    }
   },
   "source": [
    "## Create a New Branch When Uploading Changed File\n",
    "\n",
    "![Create a new branch](figs/branching.png \"Create a new branch\")"
   ]
  },
  {
   "cell_type": "markdown",
   "metadata": {
    "slideshow": {
     "slide_type": "slide"
    }
   },
   "source": [
    "## Open a Pull Request to Get Feedback (Automatically Directed There)\n",
    "\n",
    "![Open a pull request](figs/pull_request.png \"Open a pull request\")"
   ]
  },
  {
   "cell_type": "markdown",
   "metadata": {
    "slideshow": {
     "slide_type": "slide"
    }
   },
   "source": [
    "## You (and Later Your Partner) Can View Your Changes Highlighted\n",
    "\n",
    "![View changes](figs/changes.png \"View changes\")"
   ]
  },
  {
   "cell_type": "markdown",
   "metadata": {
    "slideshow": {
     "slide_type": "slide"
    }
   },
   "source": [
    "## Wait for Comments from Partner Before Merging\n",
    "\n",
    "![Merge after comments](figs/merge.png \"Merge after comments\")"
   ]
  },
  {
   "cell_type": "markdown",
   "metadata": {
    "slideshow": {
     "slide_type": "slide"
    }
   },
   "source": [
    "## Confirm Merge\n",
    "\n",
    "![Confirm merge](figs/confirm_merge.png \"Confirm merge\")"
   ]
  },
  {
   "cell_type": "markdown",
   "metadata": {
    "slideshow": {
     "slide_type": "slide"
    }
   },
   "source": [
    "## Open Issues to Discuss Problems and Ask Partner for Help\n",
    "\n",
    "![Open a new issue](figs/open_issue.png \"Open a new issue\")"
   ]
  },
  {
   "cell_type": "markdown",
   "metadata": {
    "slideshow": {
     "slide_type": "slide"
    }
   },
   "source": [
    "## Open Issues to Discuss Problems and Ask Partner for Help\n",
    "\n",
    "![Submit new issue](figs/submit_issue.png \"Submit new issue\")"
   ]
  },
  {
   "cell_type": "markdown",
   "metadata": {
    "slideshow": {
     "slide_type": "slide"
    }
   },
   "source": [
    "## Discuss\n",
    "\n",
    "![Discuss](figs/discuss.png \"Discuss\")"
   ]
  },
  {
   "cell_type": "code",
   "execution_count": null,
   "metadata": {
    "collapsed": true,
    "slideshow": {
     "slide_type": "slide"
    }
   },
   "outputs": [],
   "source": [
    "# Exercise 1: Work with the person next to you to design \n",
    "# classes to manage the products, customers, and purchase \n",
    "# orders for an online book store such as amazon.com. \n",
    "# Outline the data attributes and useful methods for \n",
    "# each class. You can discuss and create the outline together. \n",
    "\n"
   ]
  },
  {
   "cell_type": "code",
   "execution_count": null,
   "metadata": {
    "collapsed": true,
    "slideshow": {
     "slide_type": "-"
    }
   },
   "outputs": [],
   "source": [
    "# Exercise 2: Create a new repository in your account and upload \n",
    "# the class hierarchy you created. Practice cloning locally, \n",
    "# making changes, and uploading the changed file to your remote \n",
    "# repository by creating a branch and opening a pull request. \n",
    "# (Note that in order for others to be able to upload files \n",
    "# to your repository, you need to grant them push access.)\n",
    "\n"
   ]
  },
  {
   "cell_type": "code",
   "execution_count": null,
   "metadata": {
    "collapsed": true,
    "slideshow": {
     "slide_type": "-"
    }
   },
   "outputs": [],
   "source": [
    "# Exercise 3: Open a new issue in your partner's repository. \n",
    "# (Note that you don't need push access to open issues.)\n",
    "\n"
   ]
  }
 ],
 "metadata": {
  "celltoolbar": "Slideshow",
  "kernelspec": {
   "display_name": "Python 3 (ipykernel)",
   "language": "python",
   "name": "python3"
  },
  "language_info": {
   "codemirror_mode": {
    "name": "ipython",
    "version": 3
   },
   "file_extension": ".py",
   "mimetype": "text/x-python",
   "name": "python",
   "nbconvert_exporter": "python",
   "pygments_lexer": "ipython3",
   "version": "3.9.7"
  }
 },
 "nbformat": 4,
 "nbformat_minor": 2
}
