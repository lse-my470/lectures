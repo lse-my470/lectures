{
 "cells": [
  {
   "cell_type": "markdown",
   "metadata": {
    "slideshow": {
     "slide_type": "slide"
    }
   },
   "source": [
    "### MY470 Computer Programming\n",
    "# Unit Testing, Exceptions, and Assertions in Python\n",
    "### Week 7 Lab"
   ]
  },
  {
   "cell_type": "markdown",
   "metadata": {
    "slideshow": {
     "slide_type": "slide"
    }
   },
   "source": [
    "## Testing\n",
    "Running a program to confirm it works as intended\n",
    "\n",
    "## Debugging\n",
    "Fixing a program that does not work as intended"
   ]
  },
  {
   "cell_type": "markdown",
   "metadata": {
    "slideshow": {
     "slide_type": "-"
    }
   },
   "source": [
    "**Note:** You should design your program to facilitate testing and debugging. You should break your program into components (referred to as *modularity*). You should *document* (comments & doc strings) constraints and expectations using function specification. "
   ]
  },
  {
   "cell_type": "markdown",
   "metadata": {
    "slideshow": {
     "slide_type": "slide"
    }
   },
   "source": [
    "### Random Testing\n",
    "*Explore a large set of random input values.*\n",
    "\n",
    "### Black-Box Testing\n",
    "*Focus on function specification.* First, we test the boundary conditions (i.e. empty list), then we test all natural partitions (type, i.e. numeric), finally we test extremes (i.e. very large values).\n",
    "\n",
    "### Glass-Box Testing\n",
    "*Focus on the code.* Here, we are testing every possible path through the program, so it is easier to be more thorough. We test all branches including ```if``` statements, ```except``` clauses, ```for``` loops, ```while``` loops (including not entering the loop), and recursive calls. "
   ]
  },
  {
   "cell_type": "markdown",
   "metadata": {
    "slideshow": {
     "slide_type": "-"
    }
   },
   "source": [
    "**It is good to combine the ideas of black-box and glass-box testing!** "
   ]
  },
  {
   "cell_type": "markdown",
   "metadata": {
    "slideshow": {
     "slide_type": "slide"
    }
   },
   "source": [
    "### Unit Testing\n",
    "Verifies that individual units of code (mostly functions) work as expected. Usually you write the test cases yourself, but some can be automatically generated. You generally work with the smallest element of the code that makes sense, such as a method in a Class."
   ]
  },
  {
   "cell_type": "markdown",
   "metadata": {
    "slideshow": {
     "slide_type": "slide"
    }
   },
   "source": [
    "## Steps of Testing\n",
    "1. Remove syntax or static semantic errors (Make sure your code runs)\n",
    "2. Test individual functions and methods (Unit testing)\n",
    "3. Fix bugs and repeat Step 2 (Regression testing)\n",
    "4. Test the program as a whole (Integration testing)"
   ]
  },
  {
   "cell_type": "markdown",
   "metadata": {
    "slideshow": {
     "slide_type": "fragment"
    }
   },
   "source": [
    "### If your test fails, what should you do?"
   ]
  },
  {
   "cell_type": "markdown",
   "metadata": {
    "slideshow": {
     "slide_type": "fragment"
    }
   },
   "source": [
    "**Option 1:** Fix the bug / error.\n",
    "\n",
    "**Option 2:** Rewrite the function specification."
   ]
  },
  {
   "cell_type": "markdown",
   "metadata": {
    "slideshow": {
     "slide_type": "slide"
    }
   },
   "source": [
    "## `.ipynb` and `.py`\n",
    "\n",
    "For jupyter notebooks the file extension is `.ipynb` which stands for Interactive Python Notebook. We can't run these files in the command line. \n",
    "\n",
    "However, we can run python files, which have the extension `.py`.\n",
    "\n",
    "We can convert a jupyter notebook to an `.py` file. To do this go to:\n",
    "\n",
    "    File  >  Download as  >  Python (.py)\n",
    "\n",
    "Note that when you download a jupyter notebook as a `.py` all the markdown is converted to comments."
   ]
  },
  {
   "cell_type": "markdown",
   "metadata": {
    "slideshow": {
     "slide_type": "slide"
    }
   },
   "source": [
    "## Key Terms\n",
    "\n",
    "### Module \n",
    "Python files with a `.py` extension. The module is a simple Python file that contains collections of functions and global variables. Generally (although not strictly) a `.py` file is a **module** if it is made to be imported into another file and a `.py` file is a **script** if it is intended to be run directly.\n",
    "\n",
    "### Package\n",
    "A collection of modules within a directory. The directory contains Python modules as well as an `__init__.py` file by which the interpreter understands it as a Package. You don't have to write anything in `__init__.py` file but must be there in the directory.\n",
    "\n",
    "### Library\n",
    "A library is an umbrella term that loosely means \"a bundle of code.\" These can have tens or even hundreds of individual modules that can provide a wide range of functionality."
   ]
  },
  {
   "cell_type": "markdown",
   "metadata": {
    "slideshow": {
     "slide_type": "slide"
    }
   },
   "source": [
    "## Navigating in Command Line / Terminal\n",
    "\n",
    "Remember that there is a basic guide to using the command line in the lectures repo from Week 1.\n",
    "\n",
    "``` bash\n",
    "# Use \"cd\" to change your current directory to a new destination \n",
    "# So, to go to the \"Users\" folder:\n",
    "cd Users/Milena/Documents/MY470\n",
    "\n",
    "# If your file path has a space in it, wrap the file path in quotes\n",
    "cd \"Users/Milena/Documents/MY 470\"\n",
    "```"
   ]
  },
  {
   "cell_type": "markdown",
   "metadata": {
    "slideshow": {
     "slide_type": "slide"
    }
   },
   "source": [
    "## Running Code in Command Line / Terminal\n",
    "\n",
    "You can use `python` or `python3` followed by the name of the `.py` file in the command line in order to run the file. Remember that you will need to be in the directory of the file that you want to run.\n",
    "\n",
    "The python3 command was introduced because the python command pointed to python2. Since then, python3 has become the default and thus python points to python3 on most but not all systems. So, most developers explicitly use python2 and python3 as to not run into issues on other systems.\n",
    "\n",
    "\n",
    "``` bash\n",
    "# Navigate to the desired directory\n",
    "> cd Users/Milena/Documents/MY470\n",
    "# Run the python file\n",
    "> python3 MY470_wk7_assign.py\n",
    "\n",
    "```\n",
    "\n",
    "**When moving off Jupyter Notebook we advise that you use Ananconda Prompt to run .py.** The reason for this is that this means that the same packages and libraries are installed when using the cmd line as when using the Jupyter Notebook."
   ]
  },
  {
   "cell_type": "markdown",
   "metadata": {
    "slideshow": {
     "slide_type": "slide"
    }
   },
   "source": [
    "## Structuring Your Programs with `.py` Files\n",
    "\n",
    "* Use text editor (e.g. Visual Studio Code) to create `.py` files\n",
    "* Keep functions/classes that are logically related in the same `.py` file\n",
    "    * E.g. `tests.py`, `tools.py`, `plots.py`\n",
    "* Keep the main execution code in a `.ipynb` or `.py` file\n",
    "* Import modules to access functions/classes\n",
    "    "
   ]
  },
  {
   "cell_type": "code",
   "execution_count": 4,
   "metadata": {
    "slideshow": {
     "slide_type": "slide"
    }
   },
   "outputs": [
    {
     "name": "stdout",
     "output_type": "stream",
     "text": [
      "[6, 8, 11, 15, 20]\n"
     ]
    }
   ],
   "source": [
    "# A module saved in the same directory\n",
    "import tools\n",
    "\n",
    "ls = [1, 2, 3, 4, 5]\n",
    "\n",
    "# Methods from module\n",
    "tools.running_sum(ls)\n",
    "\n",
    "print(ls)"
   ]
  },
  {
   "cell_type": "markdown",
   "metadata": {
    "slideshow": {
     "slide_type": "slide"
    }
   },
   "source": [
    "## Understanding `main()`\n",
    "\n",
    "Many programming languages have a special function that is automatically executed when an operating system starts to run a program. \n",
    "\n",
    "This function is usually called `main()`.\n",
    "\n",
    "`main()` is often called the entry point because it is where execution enters the program."
   ]
  },
  {
   "cell_type": "markdown",
   "metadata": {
    "slideshow": {
     "slide_type": "slide"
    }
   },
   "source": [
    "## Understanding `if __name__ == '__main__':`\n",
    "\n",
    "Anything that comes after if `__name__ == '__main__':` will be run only when you explicitly run your file. \n",
    "\n",
    "However, if you call your file elsewhere (import) nothing under `__name__ == '__main__':` will be called.\n"
   ]
  },
  {
   "cell_type": "markdown",
   "metadata": {
    "slideshow": {
     "slide_type": "slide"
    }
   },
   "source": [
    "## Understanding `if __name__ == '__main__':`\n",
    "\n",
    "Assume that we have a file that is called `using_name.py`. The file contains the code below.\n",
    "\n",
    "``` python\n",
    "# Filename: using_name.py\n",
    "if __name__ == '__main__':\n",
    "    print('This program is being run by itself')\n",
    "else:\n",
    "    print('I am being imported from another module')\n",
    "```"
   ]
  },
  {
   "cell_type": "markdown",
   "metadata": {
    "slideshow": {
     "slide_type": "-"
    }
   },
   "source": [
    "#### Question 1\n",
    "\n",
    "If I were to run the files directly (below), what output would I see?\n",
    "```bash\n",
    "> python3 using_name.py\n",
    "```"
   ]
  },
  {
   "cell_type": "markdown",
   "metadata": {
    "slideshow": {
     "slide_type": "-"
    }
   },
   "source": [
    "#### Question 2\n",
    "\n",
    "If I were to import the file into another (below), what output would I see?\n",
    "```\n",
    "import using_name\n",
    "```"
   ]
  },
  {
   "cell_type": "markdown",
   "metadata": {
    "slideshow": {
     "slide_type": "slide"
    }
   },
   "source": [
    "## Understanding `if __name__ == '__main__':`\n",
    "\n",
    "Whenever python runs a file it sets some special variables. `__name__` is one of these special variables.\n",
    "\n",
    "`__name__` is `__main__` if we run the file directly.\n",
    "\n",
    "If we import the file, `__name__` is set to the name of the python file, without the `.py` extension (i.e. `using_name`).\n",
    "\n",
    "We use this because there are cases where we want to run the code as the main file, and run different code if it is imported."
   ]
  },
  {
   "cell_type": "markdown",
   "metadata": {
    "slideshow": {
     "slide_type": "slide"
    }
   },
   "source": [
    "### So ...\n",
    "\n",
    "``` python\n",
    "# The main() funtion is the point of execution for a python program if ran directly.\n",
    "\n",
    "# This print is outside of main method so will always be run,\n",
    "# even if the file is imported.\n",
    "print(\"This will always be run\")\n",
    "\n",
    "def main():\n",
    "    pass\n",
    "\n",
    "def your_function():\n",
    "    pass\n",
    "\n",
    "if __name__ == '__main__': \n",
    "    # If the file is being run directly by python [...]\n",
    "    # This will not be triggered if the file is imported.\n",
    "    main()\n",
    "\n",
    "# We can add an else statement here for when a file is imported.\n",
    "else:\n",
    "    print(\"This file is imported.\")\n",
    "    \n",
    "# We use \"main()\" to tell the program where to begin executing \n",
    "# if the file is being run directly. \n",
    "```"
   ]
  },
  {
   "cell_type": "markdown",
   "metadata": {
    "slideshow": {
     "slide_type": "slide"
    }
   },
   "source": [
    "## Running `.py` files\n",
    "\n",
    "\n",
    "### In general\n",
    "\n",
    "* Include `main()` function above all other functions\n",
    "* End code with:\n",
    "    \n",
    "```python\n",
    "if __name__ == '__main__':\n",
    "    main()\n",
    "```\n",
    "\n",
    "* Open Terminal\n",
    "\n",
    "```bash\n",
    "> cd Path/to/file\n",
    "> python filename.py\n",
    "```\n",
    "\n",
    "### For testing with `unittest`\n",
    "\n",
    "* No need to define your own `main()`, use `unittest.main()` instead"
   ]
  },
  {
   "cell_type": "markdown",
   "metadata": {
    "slideshow": {
     "slide_type": "fragment"
    }
   },
   "source": [
    "## Don't include testing in the main program!"
   ]
  },
  {
   "cell_type": "code",
   "execution_count": 1,
   "metadata": {
    "slideshow": {
     "slide_type": "slide"
    }
   },
   "outputs": [],
   "source": [
    "# Exercise 1: Using unittest, write all informative tests \n",
    "# for the program below. Save the program in a file called \n",
    "# leading.py and the tests in a file called test_leading.py. \n",
    "# Then run the tests.\n",
    "\n",
    "# What cases should we test for?\n",
    "\n",
    "def leading_substrings(s):\n",
    "    \"\"\"Take string s as input and return a list of all \n",
    "    the substrings that start from the beginning.\n",
    "    E.g., leading_substrings('bear') will return \n",
    "    ['b', 'be', 'bea', 'bear'].\n",
    "    \"\"\"\n",
    "    return [s[:i+1] for i in range(len(s))]\n"
   ]
  },
  {
   "cell_type": "code",
   "execution_count": null,
   "metadata": {
    "collapsed": true,
    "slideshow": {
     "slide_type": "slide"
    }
   },
   "outputs": [],
   "source": [
    "# Exercise 2: Rewrite the function below with \n",
    "# try and except to handle situations in which the user \n",
    "# does not enter an integer.\n",
    "\n",
    "def get_user_age():\n",
    "    \"\"\"Ask user to input their age and return the input \n",
    "    as an integer.\n",
    "    \"\"\"\n",
    "    s = input(\"Please enter your age: \")\n",
    "    return int(s)\n"
   ]
  },
  {
   "cell_type": "code",
   "execution_count": null,
   "metadata": {
    "collapsed": true,
    "slideshow": {
     "slide_type": "slide"
    }
   },
   "outputs": [],
   "source": [
    "# Exercise 3: Consider the function below. Rewrite the function \n",
    "# with try and except to handle the situation when the list \n",
    "# with the name provided doesn't exist in the dictionary yet, \n",
    "# instead of checking beforehand whether it does. Include else and \n",
    "# finally clauses to print the text as in the original function.\n",
    "\n",
    "def add_to_list_in_dict(dic, lname, element):\n",
    "    \"\"\"Add element to list with lname in dictionary dic.\"\"\"\n",
    "    \n",
    "    if lname not in dic:\n",
    "        dic[lname] = []\n",
    "        print('Added', lname, 'to dictionary')\n",
    "    else:\n",
    "        x = dic[lname]\n",
    "        print(lname, 'already has', len(x), 'items')\n",
    "        \n",
    "    dic[lname].append(element)\n",
    "    print('Item', element, 'successfully added to', lname)\n"
   ]
  }
 ],
 "metadata": {
  "celltoolbar": "Slideshow",
  "kernelspec": {
   "display_name": "Python 3 (ipykernel)",
   "language": "python",
   "name": "python3"
  },
  "language_info": {
   "codemirror_mode": {
    "name": "ipython",
    "version": 3
   },
   "file_extension": ".py",
   "mimetype": "text/x-python",
   "name": "python",
   "nbconvert_exporter": "python",
   "pygments_lexer": "ipython3",
   "version": "3.9.7"
  }
 },
 "nbformat": 4,
 "nbformat_minor": 2
}
