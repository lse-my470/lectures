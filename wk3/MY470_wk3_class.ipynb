{
 "cells": [
  {
   "cell_type": "markdown",
   "metadata": {
    "slideshow": {
     "slide_type": "slide"
    }
   },
   "source": [
    "### MY470 Computer Programming\n",
    "# For-Loops and List Comprehensions in Python\n",
    "### Week 3 Lab"
   ]
  },
  {
   "cell_type": "markdown",
   "metadata": {
    "slideshow": {
     "slide_type": "slide"
    }
   },
   "source": [
    "## Control Flow and Indentation"
   ]
  },
  {
   "cell_type": "markdown",
   "metadata": {
    "slideshow": {
     "slide_type": "-"
    }
   },
   "source": [
    "```\n",
    "for i in list: \n",
    "    # inside the for-loop\n",
    "    if something is TRUE:\n",
    "        # inside the if statement\n",
    "        do something\n",
    "    else:\n",
    "        # inside the else statement\n",
    "        do something\n",
    "    # inside the for-loop, but not in the if or else statement anymore\n",
    "    do something  \n",
    "# outside of the for-loop\n",
    "do something\n",
    "```"
   ]
  },
  {
   "cell_type": "code",
   "execution_count": 16,
   "metadata": {
    "slideshow": {
     "slide_type": "slide"
    }
   },
   "outputs": [
    {
     "data": {
      "text/plain": [
       "[1,\n",
       " 2,\n",
       " 'boo',\n",
       " 4,\n",
       " 5,\n",
       " 'boo',\n",
       " 7,\n",
       " 8,\n",
       " 'boo',\n",
       " 10,\n",
       " 11,\n",
       " 'boo',\n",
       " 13,\n",
       " 14,\n",
       " 'boo',\n",
       " 16,\n",
       " 17,\n",
       " 'boo',\n",
       " 19,\n",
       " 20,\n",
       " 'boo',\n",
       " 22,\n",
       " 23,\n",
       " 'boo',\n",
       " 25,\n",
       " 26,\n",
       " 'boo',\n",
       " 28,\n",
       " 29,\n",
       " 'boo',\n",
       " 31,\n",
       " 32,\n",
       " 'boo',\n",
       " 34,\n",
       " 35,\n",
       " 'boo',\n",
       " 37,\n",
       " 38,\n",
       " 'boo',\n",
       " 40,\n",
       " 41,\n",
       " 'boo',\n",
       " 43,\n",
       " 44,\n",
       " 'boo',\n",
       " 46,\n",
       " 47,\n",
       " 'boo',\n",
       " 49,\n",
       " 50,\n",
       " 'boo',\n",
       " 52,\n",
       " 53,\n",
       " 'boo',\n",
       " 55,\n",
       " 56,\n",
       " 'boo',\n",
       " 58,\n",
       " 59,\n",
       " 'boo',\n",
       " 61,\n",
       " 62,\n",
       " 'boo',\n",
       " 64,\n",
       " 65,\n",
       " 'boo',\n",
       " 67,\n",
       " 68,\n",
       " 'boo',\n",
       " 70,\n",
       " 71,\n",
       " 'boo',\n",
       " 73,\n",
       " 74,\n",
       " 'boo',\n",
       " 76,\n",
       " 77,\n",
       " 'boo',\n",
       " 79,\n",
       " 80,\n",
       " 'boo',\n",
       " 82,\n",
       " 83,\n",
       " 'boo',\n",
       " 85,\n",
       " 86,\n",
       " 'boo',\n",
       " 88,\n",
       " 89,\n",
       " 'boo',\n",
       " 91,\n",
       " 92,\n",
       " 'boo',\n",
       " 94,\n",
       " 95,\n",
       " 'boo',\n",
       " 97,\n",
       " 98,\n",
       " 'boo',\n",
       " 100]"
      ]
     },
     "execution_count": 16,
     "metadata": {},
     "output_type": "execute_result"
    }
   ],
   "source": [
    "# Exercise 1: Create a list that contains all integers from 1 to 100 (inclusive), \n",
    "# except that it has the string 'boo' for every integer that is divisible by 3 \n",
    "# Your list should look like: [1, 2, 'boo', 4, 5, 'boo', 7, 8, 'boo', 10, ...]\n",
    "\n",
    "newlst = []\n",
    "for i in range(1,101):\n",
    "    if i%3==0:\n",
    "        newlst.append('boo')\n",
    "    else: \n",
    "        newlst.append(i)\n",
    "newlst"
   ]
  },
  {
   "cell_type": "code",
   "execution_count": 18,
   "metadata": {
    "slideshow": {
     "slide_type": "-"
    }
   },
   "outputs": [
    {
     "data": {
      "text/plain": [
       "24"
      ]
     },
     "execution_count": 18,
     "metadata": {},
     "output_type": "execute_result"
    }
   ],
   "source": [
    "# Exercise 2: Sum the even integers from the list below.\n",
    "lst = [1, 3, 2, 4.5, 7, 8, 10, 3, 5, 4, 7, 3.33]\n",
    "\n",
    "sum=0\n",
    "for i in lst:\n",
    "    if i%2==0:\n",
    "        sum+=i\n",
    "sum"
   ]
  },
  {
   "cell_type": "markdown",
   "metadata": {
    "slideshow": {
     "slide_type": "slide"
    }
   },
   "source": [
    "## List Comprehensions\n",
    "\n",
    "Create a new list based on another one.\n",
    "\n",
    "With a for-loop: \n",
    "\n",
    "```\n",
    "newlst = []\n",
    "for i in lst:\n",
    "    if something is TRUE:\n",
    "        j = do something to i\n",
    "        newlst.append(j)\n",
    "```    \n",
    "\n",
    "With a list comprehension: \n",
    "\n",
    "```\n",
    "newlst = [do something to i for i in lst if something is TRUE] \n",
    "```"
   ]
  },
  {
   "cell_type": "code",
   "execution_count": 4,
   "metadata": {
    "slideshow": {
     "slide_type": "slide"
    }
   },
   "outputs": [
    {
     "data": {
      "text/plain": [
       "[1, 9, 4, 49, 64, 100, 9, 25, 16, 49]"
      ]
     },
     "execution_count": 4,
     "metadata": {},
     "output_type": "execute_result"
    }
   ],
   "source": [
    "# Exercise 3: Using a list comprehension, create a new list containing \n",
    "# the squares of the integers in the list below\n",
    "lst = [1, 3, 2, 4.5, 7, 8, 10, 3, 5, 4, 7, 3.33]\n",
    "\n",
    "newlst = [i**2 for i in lst if type(i)==int]\n",
    "newlst"
   ]
  },
  {
   "cell_type": "code",
   "execution_count": 25,
   "metadata": {
    "slideshow": {
     "slide_type": "-"
    }
   },
   "outputs": [
    {
     "data": {
      "text/plain": [
       "[(0, 6), (1, 5), (2, 4), (3, 3)]"
      ]
     },
     "execution_count": 25,
     "metadata": {},
     "output_type": "execute_result"
    }
   ],
   "source": [
    "# Exercise 4: Consider the lists x and y below. Using a list comprehension,\n",
    "# create a list that contains all combinations of (elem_x, elem_y) \n",
    "# such that elem_x + elem_y = 6\n",
    "# Your answer should look as follows: [(0, 6), (1, 5), (2, 4), (3, 3)]\n",
    "x = [0, 1, 2, 3]\n",
    "y = [3, 4, 5, 6]\n",
    "\n",
    "newlst = []\n",
    "for i in x:\n",
    "    for j in y:\n",
    "        if i+j==6:\n",
    "            newlst.append((i,j))\n",
    "newlst\n",
    "\n",
    "newlst1=[(i,j) for i in x for j in y if i+j==6]\n",
    "newlst1"
   ]
  },
  {
   "cell_type": "code",
   "execution_count": 29,
   "metadata": {
    "slideshow": {
     "slide_type": "-"
    }
   },
   "outputs": [
    {
     "data": {
      "text/plain": [
       "[[0, 1, 2, 3], [1, 2, 3], [2, 3], [3]]"
      ]
     },
     "execution_count": 29,
     "metadata": {},
     "output_type": "execute_result"
    }
   ],
   "source": [
    "# Exercise 5: Using nested list comprehensions and range(), create a list \n",
    "# that looks as follows: [[0, 1, 2, 3], [1, 2, 3], [2, 3], [3]]\n",
    "\n",
    "newlst = [list(range(i,4)) for i in range(4)]\n",
    "newlst"
   ]
  },
  {
   "cell_type": "markdown",
   "metadata": {
    "slideshow": {
     "slide_type": "slide"
    }
   },
   "source": [
    "## Iterating over Dictionaries"
   ]
  },
  {
   "cell_type": "code",
   "execution_count": 12,
   "metadata": {
    "slideshow": {
     "slide_type": "-"
    }
   },
   "outputs": [
    {
     "name": "stdout",
     "output_type": "stream",
     "text": [
      "a\n",
      "b\n",
      "c\n",
      "\n",
      "apple\n",
      "beetle\n",
      "cat\n",
      "apple\n",
      "beetle\n",
      "cat\n",
      "\n",
      "('a', 'apple')\n",
      "('b', 'beetle')\n",
      "('c', 'cat')\n",
      "\n",
      "a : apple\n",
      "b : beetle\n",
      "c : cat\n"
     ]
    }
   ],
   "source": [
    "letters = {'a':'apple', 'b': 'beetle', 'c': 'cat'}\n",
    "\n",
    "for i in letters:  # equivalent to: for i in letters.keys():\n",
    "    print(i)\n",
    "\n",
    "print()\n",
    "for i in letters:\n",
    "    print(letters[i])\n",
    "# equivalent to:\n",
    "for i in letters.values(): \n",
    "    print(i)\n",
    "\n",
    "print()\n",
    "for i in letters.items(): \n",
    "    print(i)\n",
    "    \n",
    "print()\n",
    "for i, j in letters.items(): \n",
    "    print(i, \":\", j)\n",
    "    "
   ]
  },
  {
   "cell_type": "code",
   "execution_count": 36,
   "metadata": {
    "slideshow": {
     "slide_type": "slide"
    }
   },
   "outputs": [
    {
     "data": {
      "text/plain": [
       "{'a', 'b', 'c', 'd'}"
      ]
     },
     "execution_count": 36,
     "metadata": {},
     "output_type": "execute_result"
    }
   ],
   "source": [
    "# Exercise 6: Using a dictionary comprehension, create a new dictionary that\n",
    "# contains the keys from dictionary letters that are strings, with the value for\n",
    "# each key assigned to be an empty list\n",
    "# The new dictionary should look as follows: {'a':[], 'b':[], 'c':[], 'd':[]}\n",
    "\n",
    "letters = {'a':'apple', 4: None, 'b': 'beetle', 'c': 'cat', 2: None, 'd': 'diamond'}\n",
    "\n",
    "newdict = {i : [] for i in letters if type(i)==str}\n",
    "newdict"
   ]
  },
  {
   "cell_type": "code",
   "execution_count": 34,
   "metadata": {
    "slideshow": {
     "slide_type": "-"
    }
   },
   "outputs": [
    {
     "data": {
      "text/plain": [
       "{'a': ['a', 'an'], 'b': ['be', 'been'], 'c': ['can'], 'd': ['do', 'did']}"
      ]
     },
     "execution_count": 34,
     "metadata": {},
     "output_type": "execute_result"
    }
   ],
   "source": [
    "# Exercise 7: Now, distribute the words from the list below to the new dictionary\n",
    "# according to their first letter\n",
    "\n",
    "dic = {'a': [], 'b': [], 'c': [], 'd': []}\n",
    "wordlst = ['a', 'be', 'an', 'the', 'can', 'do', 'did', 'to', 'been']\n",
    "\n",
    "for w in wordlst:\n",
    "    if w[0] in dic.keys():\n",
    "        dic[w[0]].append(w)\n",
    "dic"
   ]
  },
  {
   "cell_type": "markdown",
   "metadata": {
    "slideshow": {
     "slide_type": "slide"
    }
   },
   "source": [
    "## Best Practice: Beware of Iterating over Unordered Collections\n",
    "\n",
    "* (In Python 3.6 dictionaries are now implemented as ordered but you should not rely on this!)\n",
    "* For unordered collections, the ordering of elements is determined by how the elements are stored in memory\n"
   ]
  },
  {
   "cell_type": "code",
   "execution_count": 11,
   "metadata": {
    "slideshow": {
     "slide_type": "-"
    }
   },
   "outputs": [
    {
     "name": "stdout",
     "output_type": "stream",
     "text": [
      "List: [1, 2, 4, 8, 1, 2]\n",
      "Set: [8, 1, 2, 4]\n"
     ]
    }
   ],
   "source": [
    "lst = [1, 2, 4, 8, 1, 2]\n",
    "st = set(lst)\n",
    "\n",
    "print(\"List:\", [i for i in lst])    \n",
    "print(\"Set:\", [i for i in st]) \n"
   ]
  },
  {
   "cell_type": "markdown",
   "metadata": {
    "slideshow": {
     "slide_type": "slide"
    }
   },
   "source": [
    "## Best Practice: Avoid Mutating a List When Iterating over It\n"
   ]
  },
  {
   "cell_type": "code",
   "execution_count": 10,
   "metadata": {
    "slideshow": {
     "slide_type": "-"
    }
   },
   "outputs": [
    {
     "name": "stdout",
     "output_type": "stream",
     "text": [
      "0 [1, 2, 3, 4, 5, 6, 7, 8, 9]\n",
      "3 [1, 2, 4, 5, 6, 7, 8, 9]\n",
      "6 [1, 2, 4, 5, 7, 8, 9]\n",
      "8 [1, 2, 4, 5, 7, 9]\n"
     ]
    },
    {
     "ename": "IndexError",
     "evalue": "pop index out of range",
     "output_type": "error",
     "traceback": [
      "\u001b[0;31m---------------------------------------------------------------------------\u001b[0m",
      "\u001b[0;31mIndexError\u001b[0m                                Traceback (most recent call last)",
      "\u001b[0;32m<ipython-input-10-368f10c34dd9>\u001b[0m in \u001b[0;36m<module>\u001b[0;34m()\u001b[0m\n\u001b[1;32m      1\u001b[0m \u001b[0mlst\u001b[0m \u001b[0;34m=\u001b[0m \u001b[0;34m[\u001b[0m\u001b[0mi\u001b[0m \u001b[0;32mfor\u001b[0m \u001b[0mi\u001b[0m \u001b[0;32min\u001b[0m \u001b[0mrange\u001b[0m\u001b[0;34m(\u001b[0m\u001b[0;36m10\u001b[0m\u001b[0;34m)\u001b[0m\u001b[0;34m]\u001b[0m\u001b[0;34m\u001b[0m\u001b[0m\n\u001b[1;32m      2\u001b[0m \u001b[0;32mfor\u001b[0m \u001b[0mi\u001b[0m \u001b[0;32min\u001b[0m \u001b[0mlst\u001b[0m\u001b[0;34m:\u001b[0m\u001b[0;34m\u001b[0m\u001b[0m\n\u001b[0;32m----> 3\u001b[0;31m     \u001b[0mpopped\u001b[0m \u001b[0;34m=\u001b[0m \u001b[0mlst\u001b[0m\u001b[0;34m.\u001b[0m\u001b[0mpop\u001b[0m\u001b[0;34m(\u001b[0m\u001b[0mi\u001b[0m\u001b[0;34m)\u001b[0m\u001b[0;34m\u001b[0m\u001b[0m\n\u001b[0m\u001b[1;32m      4\u001b[0m     \u001b[0mprint\u001b[0m\u001b[0;34m(\u001b[0m\u001b[0mpopped\u001b[0m\u001b[0;34m,\u001b[0m \u001b[0mlst\u001b[0m\u001b[0;34m)\u001b[0m\u001b[0;34m\u001b[0m\u001b[0m\n",
      "\u001b[0;31mIndexError\u001b[0m: pop index out of range"
     ]
    }
   ],
   "source": [
    "lst = [i for i in range(10)]\n",
    "for i in lst:\n",
    "    popped = lst.pop(i)\n",
    "    print(popped, lst)\n"
   ]
  }
 ],
 "metadata": {
  "celltoolbar": "Slideshow",
  "kernelspec": {
   "display_name": "Python 3 (ipykernel)",
   "language": "python",
   "name": "python3"
  },
  "language_info": {
   "codemirror_mode": {
    "name": "ipython",
    "version": 3
   },
   "file_extension": ".py",
   "mimetype": "text/x-python",
   "name": "python",
   "nbconvert_exporter": "python",
   "pygments_lexer": "ipython3",
   "version": "3.9.12"
  }
 },
 "nbformat": 4,
 "nbformat_minor": 2
}
